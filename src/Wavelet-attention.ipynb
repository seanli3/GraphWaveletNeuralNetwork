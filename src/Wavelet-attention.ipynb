{
 "cells": [
  {
   "cell_type": "code",
   "execution_count": 35,
   "metadata": {},
   "outputs": [],
   "source": [
    "import sys  # isort:skip\n",
    "import os  # isort:skip\n",
    "sys.path.insert(0, os.path.abspath('../../pygsp'))  # noqa isort:skip\n",
    "\n",
    "from gwnn import GWNNTrainer\n",
    "from utils import WaveletSparsifier\n",
    "from param_parser import parameter_parser\n",
    "from utils import tab_printer, graph_reader, feature_reader, target_reader, save_logs\n"
   ]
  },
  {
   "cell_type": "code",
   "execution_count": 36,
   "metadata": {},
   "outputs": [],
   "source": [
    "sys.argv = [\n",
    "    '',\n",
    "    '--approximation=3',\n",
    "    '--dropout=0.5',\n",
    "    \"--edge-path=../input/cora_edges.csv\",\n",
    "    '--epochs=40',\n",
    "    \"--features-path=../input/cora_features.json\",\n",
    "    '--filters=32',\n",
    "    '--learning-rate=0.01',\n",
    "    \"--log-path=../logs/cora_logs.json\",\n",
    "    '--scale=1.0',\n",
    "    '--seed=42',\n",
    "    \"--target-path=../input/cora_target.csv\",\n",
    "    '--test-size=0.2',\n",
    "    '--tolerance=0.0001',\n",
    "    '--weight-decay=1e-05'\n",
    "]\n",
    "args = parameter_parser()"
   ]
  },
  {
   "cell_type": "code",
   "execution_count": 37,
   "metadata": {},
   "outputs": [
    {
     "name": "stdout",
     "output_type": "stream",
     "text": [
      "+---------------------+-----------------------------+\n",
      "| Approximation order |              3              |\n",
      "+=====================+=============================+\n",
      "| Dropout             | 0.500                       |\n",
      "+---------------------+-----------------------------+\n",
      "| Edge path           | ../input/cora_edges.csv     |\n",
      "+---------------------+-----------------------------+\n",
      "| Epochs              | 40                          |\n",
      "+---------------------+-----------------------------+\n",
      "| Features path       | ../input/cora_features.json |\n",
      "+---------------------+-----------------------------+\n",
      "| Filters             | 32                          |\n",
      "+---------------------+-----------------------------+\n",
      "| Learning rate       | 0.010                       |\n",
      "+---------------------+-----------------------------+\n",
      "| Log path            | ../logs/cora_logs.json      |\n",
      "+---------------------+-----------------------------+\n",
      "| Scale               | 1                           |\n",
      "+---------------------+-----------------------------+\n",
      "| Seed                | 42                          |\n",
      "+---------------------+-----------------------------+\n",
      "| Target path         | ../input/cora_target.csv    |\n",
      "+---------------------+-----------------------------+\n",
      "| Test size           | 0.200                       |\n",
      "+---------------------+-----------------------------+\n",
      "| Tolerance           | 0.000                       |\n",
      "+---------------------+-----------------------------+\n",
      "| Weight decay        | 0.000                       |\n",
      "+---------------------+-----------------------------+\n"
     ]
    }
   ],
   "source": [
    "args = parameter_parser()\n",
    "tab_printer(args)"
   ]
  },
  {
   "cell_type": "code",
   "execution_count": 38,
   "metadata": {},
   "outputs": [],
   "source": [
    "graph = graph_reader('../input/cora_edges.csv')\n",
    "features = feature_reader('../input/cora_features.json')\n",
    "target = target_reader('../input/cora_target.csv')\n"
   ]
  },
  {
   "cell_type": "code",
   "execution_count": 39,
   "metadata": {},
   "outputs": [],
   "source": [
    "graph = graph_reader(args.edge_path)\n",
    "features = feature_reader(args.features_path)\n",
    "target = target_reader(args.target_path)"
   ]
  },
  {
   "cell_type": "code",
   "execution_count": 40,
   "metadata": {},
   "outputs": [
    {
     "name": "stdout",
     "output_type": "stream",
     "text": [
      "\n",
      "Wavelet calculation and sparsification started.\n",
      "\n"
     ]
    },
    {
     "name": "stderr",
     "output_type": "stream",
     "text": [
      "/home/li243/Documents/paleoML/wavelet/pygsp/pygsp/filters/itersine.py:46: RuntimeWarning: divide by zero encountered in double_scalars\n",
      "  scales = G.lmax / (Nf - overlap + 1) * overlap\n",
      "/usr/local/lib/python3.6/dist-packages/numpy/core/numeric.py:538: ComplexWarning: Casting complex values to real discards the imaginary part\n",
      "  return array(a, dtype, copy=False, order=order)\n"
     ]
    },
    {
     "name": "stdout",
     "output_type": "stream",
     "text": [
      "\n",
      "Normalizing the sparsified wavelets.\n",
      "\n",
      "Density of wavelets: 0.23%.\n",
      "Density of inverse wavelets: 0.23%.\n",
      "\n",
      "Density of wavelets: 1.36%.\n",
      "Density of inverse wavelets: 1.36%.\n",
      "\n",
      "Density of wavelets: 0.04%.\n",
      "Density of inverse wavelets: 0.2%.\n",
      "\n",
      "Density of wavelets: 0.04%.\n",
      "Density of inverse wavelets: 0.04%.\n",
      "\n",
      "Density of wavelets: 0.0%.\n",
      "Density of inverse wavelets: 0.0%.\n",
      "\n"
     ]
    }
   ],
   "source": [
    "sparsifier = WaveletSparsifier(graph, args.scale, args.approximation_order, args.tolerance)\n",
    "sparsifier.calculate_all_wavelets()"
   ]
  },
  {
   "cell_type": "code",
   "execution_count": 41,
   "metadata": {},
   "outputs": [],
   "source": [
    "trainer = GWNNTrainer(args, sparsifier, features, target)"
   ]
  },
  {
   "cell_type": "code",
   "execution_count": 42,
   "metadata": {},
   "outputs": [
    {
     "name": "stderr",
     "output_type": "stream",
     "text": [
      "Loss:   0%|          | 0/40 [00:00<?, ?it/s]"
     ]
    },
    {
     "name": "stdout",
     "output_type": "stream",
     "text": [
      "Training.\n",
      "\n"
     ]
    },
    {
     "name": "stderr",
     "output_type": "stream",
     "text": [
      "GWNN (Loss=0.0647): 100%|██████████| 40/40 [07:59<00:00, 11.99s/it]\n"
     ]
    }
   ],
   "source": [
    "trainer.fit()"
   ]
  },
  {
   "cell_type": "code",
   "execution_count": 43,
   "metadata": {},
   "outputs": [
    {
     "name": "stdout",
     "output_type": "stream",
     "text": [
      "\n",
      "Scoring.\n",
      "\n",
      "Test Accuracy: 0.7320\n"
     ]
    }
   ],
   "source": [
    "trainer.score()"
   ]
  },
  {
   "cell_type": "code",
   "execution_count": 44,
   "metadata": {},
   "outputs": [],
   "source": [
    "save_logs(args, trainer.logs)"
   ]
  },
  {
   "cell_type": "code",
   "execution_count": null,
   "metadata": {},
   "outputs": [],
   "source": []
  }
 ],
 "metadata": {
  "kernelspec": {
   "display_name": "Python 3",
   "language": "python",
   "name": "python3"
  },
  "language_info": {
   "codemirror_mode": {
    "name": "ipython",
    "version": 3
   },
   "file_extension": ".py",
   "mimetype": "text/x-python",
   "name": "python",
   "nbconvert_exporter": "python",
   "pygments_lexer": "ipython3",
   "version": "3.6.9"
  }
 },
 "nbformat": 4,
 "nbformat_minor": 4
}
